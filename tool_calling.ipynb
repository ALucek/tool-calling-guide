{
 "cells": [
  {
   "attachments": {},
   "cell_type": "markdown",
   "id": "10a1bb14-351c-41e7-8185-b9f184334225",
   "metadata": {},
   "source": [
    "<img src=\"https://gradientflow.com/wp-content/uploads/2024/01/newsletter94-function-calling.jpeg\" width=800>\n",
    "\n",
    "# LLM Tool/Function Calling\n",
    "\n",
    "*Function calling is the ability to reliably connect LLMs to external tools to enable effective tool usage and interaction with external APIs.*\n",
    "\n",
    "This is often a fine-tuned feature, not available to all models, but super useful where it is!\n",
    "\n",
    "### Common use cases\n",
    "\n",
    "Function calling allows you to more reliably get structured data back from the model. For example, you can:\n",
    "\n",
    "* Create assistants that answer questions by calling external APIs\n",
    "     * e.g. define functions like `send_email(to: string, body: string)`, or `get_current_weather(location: string, unit: 'celsius' | 'fahrenheit')`\n",
    "* Convert natural language into API calls\n",
    "     * e.g. convert \"Who are my top customers?\" to `get_customers(min_revenue: int, created_before: string, limit: int)` and call your internal API\n",
    "* Extract structured data from text\n",
    "     * e.g. define a function called `extract_data(name: string, birthday: string)`, or `sql_query(query: string)`\n",
    " \n",
    "### The basic sequence of steps for function calling is as follows:\n",
    "\n",
    "1. Call the model with the user query and a set of functions defined in the functions parameter.\n",
    "2. The model can choose to call one or more functions; if so, the content will be a stringified JSON object adhering to your custom schema\n",
    "3. Parse the string into JSON in your code, and call your function with the provided arguments if they exist.\n",
    "4. Call the model again by appending the function response as a new message, and let the model summarize the results back to the user.\n",
    "\n",
    "While the name implies that the model is performing some action, this is actually not the case! The model is coming up with the arguments to a tool, and actually running the tool (or not) is up to the user"
   ]
  },
  {
   "cell_type": "markdown",
   "id": "9d2a35ce-e262-45b8-8e75-af83b8510f5d",
   "metadata": {},
   "source": [
    "---\n",
    "# Creating LLM Functions"
   ]
  },
  {
   "cell_type": "markdown",
   "id": "b88a0d09-c69b-4bc6-b1ba-78ed408c31d7",
   "metadata": {},
   "source": [
    "## OpenAI Function Schema"
   ]
  },
  {
   "cell_type": "markdown",
   "id": "25a4f118-d737-4268-a5b3-b55cdd2a5b17",
   "metadata": {},
   "source": [
    "**[OpenAI Function Calling Documentation](https://platform.openai.com/docs/guides/function-calling)**\n",
    "\n",
    "*According to the JSON standard, a JSON value is one of the following JSON-language data types: object, array, number, string, Boolean (value true or false), or null (value null). All values except objects and arrays are scalar.*\n",
    "\n",
    "https://en.wikipedia.org/wiki/JSON#Data_types"
   ]
  },
  {
   "cell_type": "code",
   "execution_count": 1,
   "id": "0ef21b42-7a01-4273-b18e-f544b42c2591",
   "metadata": {},
   "outputs": [],
   "source": [
    "first_tools = [\n",
    "        # Tool 1 - Get Exchange Rate\n",
    "        { \n",
    "            \"type\": \"function\",\n",
    "            \"function\": {\n",
    "                \"name\": \"get_exchange_rate\",\n",
    "                \"description\": \"Get the current exchange rate of a base currency and target currency\",\n",
    "                \"parameters\": {\n",
    "                    \"type\": \"object\",\n",
    "                    \"properties\": {\n",
    "                        \"base_currency\": {\n",
    "                            \"type\": \"string\",\n",
    "                            \"description\": \"The base currency for exchange rate calculations, i.e. USD, EUR, RUB\",\n",
    "                        },\n",
    "                        \"target_currency\": {\n",
    "                            \"type\": \"string\", \n",
    "                            \"description\": \"The target currency for exchange rate calculations, i.e. USD, EUR, RUB\"\n",
    "                        },\n",
    "                        \"date\": {\n",
    "                            \"type\": \"string\", \n",
    "                            \"description\": \"A specific day to reference, in YYYY-MM-DD format.\"\n",
    "                        },\n",
    "                    },\n",
    "                    \"required\": [\"base_currency\", \"target_currency\"],\n",
    "                },\n",
    "            },\n",
    "        },\n",
    "        # Tool 2 - Search Internet\n",
    "        { \n",
    "            \"type\": \"function\",\n",
    "            \"function\": {\n",
    "                \"name\": \"search_internet\",\n",
    "                \"description\": \"Get internet search results for real time information\",\n",
    "                \"parameters\": {\n",
    "                    \"type\": \"object\",\n",
    "                    \"properties\": {\n",
    "                        \"search_query\": {\n",
    "                            \"type\": \"string\",\n",
    "                            \"description\": \"The query to search the web for\",\n",
    "                        }\n",
    "                    },\n",
    "                    \"required\": [\"search_query\"],\n",
    "                },\n",
    "            },\n",
    "        }\n",
    "    ]"
   ]
  },
  {
   "cell_type": "code",
   "execution_count": 5,
   "id": "b4e899c4-f512-4ec9-a941-cef28bbef237",
   "metadata": {},
   "outputs": [],
   "source": [
    "from openai import OpenAI\n",
    "import json\n",
    "\n",
    "client = OpenAI()\n",
    "\n",
    "messages = [{\"role\": \"user\", \n",
    "             \"content\": \"How much is a dollar worth in Japan? How about poland? Whats the current news in Argentina?\"}]\n",
    "\n",
    "\n",
    "response = client.chat.completions.create(\n",
    "        model=\"gpt-4o\",\n",
    "        messages=messages,\n",
    "        tools=first_tools,\n",
    "        tool_choice=\"auto\",  # auto is default, but we'll be explicit\n",
    "    )"
   ]
  },
  {
   "cell_type": "code",
   "execution_count": 3,
   "id": "a9588bcd-14f2-4f54-b12a-e0be4127bdd3",
   "metadata": {},
   "outputs": [],
   "source": [
    "# Function for printing out responses neatly\n",
    "def pprint_response(response):\n",
    "    print(\"--- Full Response ---\\n\")\n",
    "    print(response, \"\\n\")\n",
    "    \n",
    "    print(\"--- Chat Completion Message ---\\n\")\n",
    "    print(response.choices[0].message, \"\\n\")\n",
    "    \n",
    "    if response.choices[0].message.tool_calls:\n",
    "        for i in range(0, len(response.choices[0].message.tool_calls)):\n",
    "            print(f\"--- Tool Call {i+1} ---\\n\")\n",
    "            print(f\"Function: {response.choices[0].message.tool_calls[i].function.name}\\n\")\n",
    "            print(f\"Arguments: {response.choices[0].message.tool_calls[i].function.arguments}\\n\")"
   ]
  },
  {
   "cell_type": "code",
   "execution_count": 6,
   "id": "32cde175-accf-4242-b22b-af5dcd7c8185",
   "metadata": {},
   "outputs": [
    {
     "name": "stdout",
     "output_type": "stream",
     "text": [
      "--- Full Response ---\n",
      "\n",
      "ChatCompletion(id='chatcmpl-9ljQtArRTkzhHmsFj3RdOQNNfhVBQ', choices=[Choice(finish_reason='tool_calls', index=0, logprobs=None, message=ChatCompletionMessage(content=None, role='assistant', function_call=None, tool_calls=[ChatCompletionMessageToolCall(id='call_qPo46RVBKvqzUIH19u5zdWuF', function=Function(arguments='{\"base_currency\": \"USD\", \"target_currency\": \"JPY\"}', name='get_exchange_rate'), type='function'), ChatCompletionMessageToolCall(id='call_eLFxyxINbApbtVRLi11mIjOg', function=Function(arguments='{\"base_currency\": \"USD\", \"target_currency\": \"PLN\"}', name='get_exchange_rate'), type='function'), ChatCompletionMessageToolCall(id='call_jYLIX1csd06icKV7JVi62hlf', function=Function(arguments='{\"search_query\": \"current news in Argentina\"}', name='search_internet'), type='function')]))], created=1721163087, model='gpt-4o-2024-05-13', object='chat.completion', system_fingerprint='fp_400f27fa1f', usage=CompletionUsage(completion_tokens=78, prompt_tokens=163, total_tokens=241)) \n",
      "\n",
      "--- Chat Completion Message ---\n",
      "\n",
      "ChatCompletionMessage(content=None, role='assistant', function_call=None, tool_calls=[ChatCompletionMessageToolCall(id='call_qPo46RVBKvqzUIH19u5zdWuF', function=Function(arguments='{\"base_currency\": \"USD\", \"target_currency\": \"JPY\"}', name='get_exchange_rate'), type='function'), ChatCompletionMessageToolCall(id='call_eLFxyxINbApbtVRLi11mIjOg', function=Function(arguments='{\"base_currency\": \"USD\", \"target_currency\": \"PLN\"}', name='get_exchange_rate'), type='function'), ChatCompletionMessageToolCall(id='call_jYLIX1csd06icKV7JVi62hlf', function=Function(arguments='{\"search_query\": \"current news in Argentina\"}', name='search_internet'), type='function')]) \n",
      "\n",
      "--- Tool Call 1 ---\n",
      "\n",
      "Function: get_exchange_rate\n",
      "\n",
      "Arguments: {\"base_currency\": \"USD\", \"target_currency\": \"JPY\"}\n",
      "\n",
      "--- Tool Call 2 ---\n",
      "\n",
      "Function: get_exchange_rate\n",
      "\n",
      "Arguments: {\"base_currency\": \"USD\", \"target_currency\": \"PLN\"}\n",
      "\n",
      "--- Tool Call 3 ---\n",
      "\n",
      "Function: search_internet\n",
      "\n",
      "Arguments: {\"search_query\": \"current news in Argentina\"}\n",
      "\n"
     ]
    }
   ],
   "source": [
    "pprint_response(response)"
   ]
  },
  {
   "cell_type": "markdown",
   "id": "c2194856-0d37-4a01-9685-aba8da6f2ac5",
   "metadata": {},
   "source": [
    "---\n",
    "## Executing the Functions\n",
    "\n",
    "As the LLM is just populating the arguments for calling the function, it is up to us to actually execute the functions.\n",
    "\n",
    "For our Web Search tool, we'll be using the DuckDuckGo API: https://pypi.org/project/duckduckgo-search/  \n",
    "And for our Currency Conversion, we'll be using the Free Currency Exchange API: https://github.com/fawazahmed0/exchange-api"
   ]
  },
  {
   "cell_type": "code",
   "execution_count": 12,
   "id": "3eb061eb-4fe8-47b8-9e50-6d386108646d",
   "metadata": {},
   "outputs": [],
   "source": [
    "from duckduckgo_search import DDGS\n",
    "import requests\n",
    "\n",
    "def search_internet(search_query: str) -> list:\n",
    "    results = DDGS().text(str(search_query), max_results=5)\n",
    "    return results\n",
    "\n",
    "def get_exchange_rate(base_currency: str, target_currency: str, date: str = \"latest\") -> float:\n",
    "    \n",
    "    url = f\"https://cdn.jsdelivr.net/npm/@fawazahmed0/currency-api@{date}/v1/currencies/{base_currency.lower()}.json\"\n",
    "    response = requests.get(url)\n",
    "    \n",
    "    if response.status_code == 200:\n",
    "        data = response.json()\n",
    "        return data.get(base_currency.lower(), {}).get(target_currency.lower(), None)\n",
    "    else:\n",
    "        raise Exception(f\"Failed to fetch exchange rate: {response.status_code}\")"
   ]
  },
  {
   "cell_type": "code",
   "execution_count": 13,
   "id": "fe7b6b8d-cc3a-40a9-b5fe-8d9d35c7e811",
   "metadata": {},
   "outputs": [
    {
     "name": "stdout",
     "output_type": "stream",
     "text": [
      "\n",
      "Initial Message:  [{'role': 'user', 'content': 'How much is a dollar worth in Japan? How about poland? Whats the current news in Argentina?'}]\n",
      "\n",
      "Response Message:  ChatCompletionMessage(content=None, role='assistant', function_call=None, tool_calls=[ChatCompletionMessageToolCall(id='call_T4noNrQKJTHL9rWyfKBz5pil', function=Function(arguments='{\"base_currency\": \"USD\", \"target_currency\": \"JPY\"}', name='get_exchange_rate'), type='function'), ChatCompletionMessageToolCall(id='call_fzPLFXAH57FU0H04tpM36ay8', function=Function(arguments='{\"base_currency\": \"USD\", \"target_currency\": \"PLN\"}', name='get_exchange_rate'), type='function'), ChatCompletionMessageToolCall(id='call_TiDiLVR6PqzK50ZnwCs6CsEu', function=Function(arguments='{\"search_query\": \"current news in Argentina\"}', name='search_internet'), type='function')])\n",
      "\n",
      "Tool Calls:  [ChatCompletionMessageToolCall(id='call_T4noNrQKJTHL9rWyfKBz5pil', function=Function(arguments='{\"base_currency\": \"USD\", \"target_currency\": \"JPY\"}', name='get_exchange_rate'), type='function'), ChatCompletionMessageToolCall(id='call_fzPLFXAH57FU0H04tpM36ay8', function=Function(arguments='{\"base_currency\": \"USD\", \"target_currency\": \"PLN\"}', name='get_exchange_rate'), type='function'), ChatCompletionMessageToolCall(id='call_TiDiLVR6PqzK50ZnwCs6CsEu', function=Function(arguments='{\"search_query\": \"current news in Argentina\"}', name='search_internet'), type='function')]\n",
      "\n",
      "Calling <function get_exchange_rate at 0x109d1ee80> with arguments {'base_currency': 'USD', 'target_currency': 'JPY', 'date': 'latest'}\n",
      "\n",
      "Function Response:  158.51506391\n",
      "\n",
      "Appending Message:  {'tool_call_id': 'call_T4noNrQKJTHL9rWyfKBz5pil', 'role': 'tool', 'name': 'get_exchange_rate', 'content': '158.51506391'}\n",
      "\n",
      "Calling <function get_exchange_rate at 0x109d1ee80> with arguments {'base_currency': 'USD', 'target_currency': 'PLN', 'date': 'latest'}\n",
      "\n",
      "Function Response:  3.90821251\n",
      "\n",
      "Appending Message:  {'tool_call_id': 'call_fzPLFXAH57FU0H04tpM36ay8', 'role': 'tool', 'name': 'get_exchange_rate', 'content': '3.90821251'}\n",
      "\n",
      "Calling <function search_internet at 0x109d1e480> with arguments {'search_query': 'current news in Argentina'}\n",
      "\n",
      "Function Response:  [{'title': \"Argentina | Today's latest from Al Jazeera\", 'href': 'https://www.aljazeera.com/where/argentina', 'body': \"Stay on top of Argentina latest developments on the ground with Al Jazeera's fact-based news, exclusive video footage, photos and updated maps.\"}, {'title': 'News from Argentina and beyond - in English | Buenos Aires Times', 'href': 'https://www.batimes.com.ar/', 'body': \"Homepage for the Buenos Aires Times, Argentina's only English-language newspaper. News from Argentina and beyond - in English. News, analysis, politics, finance, economy, culture, sports - and much, much more! ... The last three years have been ones to remember for this Argentina team and with this latest victory, they are surely the ...\"}, {'title': 'Argentina | AP News', 'href': 'https://apnews.com/hub/argentina', 'body': \"President Javier Milei of Argentina, who owns four clones of his dead dog Conan, has never been the most conventional occupant of Argentina's highest office. Stay informed and read the latest breaking news and updates on Argentina from AP News, the definitive source for independent journalism.\"}, {'title': 'Argentina | Buenos Aires Times', 'href': 'https://www.batimes.com.ar/section/argentina', 'body': \"News of argentina. Homepage for the Buenos Aires Times, Argentina's only English-language newspaper. News from Argentina and beyond - in English. ... 06-07-2024 05:23 US Ambassador Marc Stanley pays tributes to Argentine politicians from previous and current governments as he welcomes more than 1,000 guests to the Palacio Bosch for annual ...\"}, {'title': 'Argentina - BBC News', 'href': 'https://www.bbc.com/news/topics/c77jz3mdm3rt', 'body': \"Important to get winning start - Messi. Lionel Messi reflects on the importance of a winning start after Argentina's 2-0 win against Canada in the opening game of Copa America. All the latest ...\"}]\n",
      "\n",
      "Appending Message:  {'tool_call_id': 'call_TiDiLVR6PqzK50ZnwCs6CsEu', 'role': 'tool', 'name': 'search_internet', 'content': '[{\\'title\\': \"Argentina | Today\\'s latest from Al Jazeera\", \\'href\\': \\'https://www.aljazeera.com/where/argentina\\', \\'body\\': \"Stay on top of Argentina latest developments on the ground with Al Jazeera\\'s fact-based news, exclusive video footage, photos and updated maps.\"}, {\\'title\\': \\'News from Argentina and beyond - in English | Buenos Aires Times\\', \\'href\\': \\'https://www.batimes.com.ar/\\', \\'body\\': \"Homepage for the Buenos Aires Times, Argentina\\'s only English-language newspaper. News from Argentina and beyond - in English. News, analysis, politics, finance, economy, culture, sports - and much, much more! ... The last three years have been ones to remember for this Argentina team and with this latest victory, they are surely the ...\"}, {\\'title\\': \\'Argentina | AP News\\', \\'href\\': \\'https://apnews.com/hub/argentina\\', \\'body\\': \"President Javier Milei of Argentina, who owns four clones of his dead dog Conan, has never been the most conventional occupant of Argentina\\'s highest office. Stay informed and read the latest breaking news and updates on Argentina from AP News, the definitive source for independent journalism.\"}, {\\'title\\': \\'Argentina | Buenos Aires Times\\', \\'href\\': \\'https://www.batimes.com.ar/section/argentina\\', \\'body\\': \"News of argentina. Homepage for the Buenos Aires Times, Argentina\\'s only English-language newspaper. News from Argentina and beyond - in English. ... 06-07-2024 05:23 US Ambassador Marc Stanley pays tributes to Argentine politicians from previous and current governments as he welcomes more than 1,000 guests to the Palacio Bosch for annual ...\"}, {\\'title\\': \\'Argentina - BBC News\\', \\'href\\': \\'https://www.bbc.com/news/topics/c77jz3mdm3rt\\', \\'body\\': \"Important to get winning start - Messi. Lionel Messi reflects on the importance of a winning start after Argentina\\'s 2-0 win against Canada in the opening game of Copa America. All the latest ...\"}]'}\n",
      "\n",
      "LLM Response:  ChatCompletion(id='chatcmpl-9ljfqqMxBlTEynOqEYVtHvyYJBUSh', choices=[Choice(finish_reason='stop', index=0, logprobs=None, message=ChatCompletionMessage(content='### Exchange Rates:\\n1. **USD to JPY (Japan):** 1 USD is approximately 158.52 JPY.\\n2. **USD to PLN (Poland):** 1 USD is approximately 3.91 PLN.\\n\\n### Current News in Argentina:\\nHere are some sources where you can find the latest news about Argentina:\\n\\n1. [**Al Jazeera - Argentina**](https://www.aljazeera.com/where/argentina)\\n   - Provides fact-based news, exclusive video footage, photos, and updated maps on developments in Argentina.\\n\\n2. [**Buenos Aires Times**](https://www.batimes.com.ar/)\\n   - The only English-language newspaper in Argentina. Covers news from Argentina and beyond, including analysis in politics, finance, economy, culture, and sports.\\n\\n3. [**AP News - Argentina**](https://apnews.com/hub/argentina)\\n   - Offers the latest breaking news and updates on Argentina, covering various topics including politics and current events.\\n\\n4. [**BBC News - Argentina**](https://www.bbc.com/news/topics/c77jz3mdm3rt)\\n   - Features news articles and updates on important events and personalities, such as sports insights from Lionel Messi.\\n\\nFeel free to explore these sources for more in-depth and up-to-date information.', role='assistant', function_call=None, tool_calls=None))], created=1721164014, model='gpt-4o-2024-05-13', object='chat.completion', system_fingerprint='fp_5e997b69d8', usage=CompletionUsage(completion_tokens=270, prompt_tokens=563, total_tokens=833))\n",
      "\n",
      "---Formatted LLM Response---\n",
      "\n",
      " ### Exchange Rates:\n",
      "1. **USD to JPY (Japan):** 1 USD is approximately 158.52 JPY.\n",
      "2. **USD to PLN (Poland):** 1 USD is approximately 3.91 PLN.\n",
      "\n",
      "### Current News in Argentina:\n",
      "Here are some sources where you can find the latest news about Argentina:\n",
      "\n",
      "1. [**Al Jazeera - Argentina**](https://www.aljazeera.com/where/argentina)\n",
      "   - Provides fact-based news, exclusive video footage, photos, and updated maps on developments in Argentina.\n",
      "\n",
      "2. [**Buenos Aires Times**](https://www.batimes.com.ar/)\n",
      "   - The only English-language newspaper in Argentina. Covers news from Argentina and beyond, including analysis in politics, finance, economy, culture, and sports.\n",
      "\n",
      "3. [**AP News - Argentina**](https://apnews.com/hub/argentina)\n",
      "   - Offers the latest breaking news and updates on Argentina, covering various topics including politics and current events.\n",
      "\n",
      "4. [**BBC News - Argentina**](https://www.bbc.com/news/topics/c77jz3mdm3rt)\n",
      "   - Features news articles and updates on important events and personalities, such as sports insights from Lionel Messi.\n",
      "\n",
      "Feel free to explore these sources for more in-depth and up-to-date information.\n"
     ]
    }
   ],
   "source": [
    "import inspect\n",
    "\n",
    "# Main conversation function\n",
    "def run_conversation(prompt, tools, tool_choice = \"auto\"):\n",
    "    \n",
    "    messages = [{\"role\": \"user\", \"content\": prompt}]\n",
    "    \n",
    "    print(\"\\nInitial Message: \", messages)\n",
    "    \n",
    "    # Send the conversation and available functions to the model\n",
    "    response = client.chat.completions.create(\n",
    "        model=\"gpt-4o\",\n",
    "        messages=messages,\n",
    "        tools=tools,\n",
    "        tool_choice=tool_choice,\n",
    "    )\n",
    "    response_message = response.choices[0].message\n",
    "    print(\"\\nResponse Message: \", response_message)\n",
    "    \n",
    "    tool_calls = response_message.tool_calls\n",
    "    print(\"\\nTool Calls: \", tool_calls)\n",
    "    \n",
    "    # Check if the model wanted to call a function\n",
    "    if tool_calls:\n",
    "        \n",
    "        # Call the functions\n",
    "        available_functions = {\n",
    "            \"get_exchange_rate\": get_exchange_rate,\n",
    "            \"search_internet\": search_internet,\n",
    "        } \n",
    "        # extend conversation with assistant's reply\n",
    "        messages.append(response_message)\n",
    "        \n",
    "        # Call the function and add the response\n",
    "        for tool_call in tool_calls:\n",
    "            function_name = tool_call.function.name\n",
    "            function_to_call = available_functions[function_name]\n",
    "            function_args = json.loads(tool_call.function.arguments)\n",
    "            \n",
    "            \n",
    "            # Get the function signature and call the function with given arguments\n",
    "            sig = inspect.signature(function_to_call)\n",
    "            call_args = {\n",
    "                k: function_args.get(k, v.default)\n",
    "                for k, v in sig.parameters.items()\n",
    "                if k in function_args or v.default is not inspect.Parameter.empty\n",
    "            }\n",
    "            print(f\"\\nCalling {function_to_call} with arguments {call_args}\")\n",
    "            \n",
    "            function_response = str(function_to_call(**call_args))\n",
    "            \n",
    "            print(\"\\nFunction Response: \", function_response)\n",
    "\n",
    "            # Put output into a tool message\n",
    "            tool_message = {\n",
    "                    \"tool_call_id\": tool_call.id, # Needed for Parallel Tool Calling\n",
    "                    \"role\": \"tool\",\n",
    "                    \"name\": function_name,\n",
    "                    \"content\": function_response,\n",
    "                }\n",
    "            print(\"\\nAppending Message: \", tool_message)\n",
    "            \n",
    "            # Extend conversation with function response\n",
    "            messages.append(tool_message)  \n",
    "\n",
    "        # Get a new response from the model where it can see the entire conversation including the function call outputs\n",
    "        second_response = client.chat.completions.create(\n",
    "            model=\"gpt-4o\",\n",
    "            messages=messages,\n",
    "        )  \n",
    "\n",
    "        print(\"\\nLLM Response: \", second_response)\n",
    "\n",
    "        print(\"\\n---Formatted LLM Response---\")\n",
    "        print(\"\\n\",second_response.choices[0].message.content)\n",
    "        \n",
    "        return\n",
    "\n",
    "prompt = \"How much is a dollar worth in Japan? How about poland? Whats the current news in Argentina?\"\n",
    "\n",
    "run_conversation(prompt, first_tools)"
   ]
  },
  {
   "cell_type": "markdown",
   "id": "f4a810b4-3119-4555-88c6-78be70346fdd",
   "metadata": {},
   "source": [
    "---\n",
    "## Function Calling Behavior \n",
    "\n",
    "The default behavior for `tool_choice` is `tool_choice: \"auto\"`. This lets the model decide whether to call functions and, if so, which functions to call.\n",
    "\n",
    "Three ways to customize the default behavior depending on your use case:\n",
    "\n",
    "1. To force the model to always call one or more functions, you can set `tool_choice: \"required\"`. The model will then select which function(s) to call.\n",
    "2. To force the model to call only one specific function, you can set `tool_choice: {\"type\": \"function\", \"function\": {\"name\": \"my_function\"}}`.\n",
    "3. To disable function calling and force the model to only generate a user-facing message, you can set `tool_choice: \"none\"`.\n",
    "\n",
    "Additionally, there exists the option for **Parallel Function Calling**\n",
    "\n",
    "Parallel function calling is the model's ability to perform multiple function calls together, allowing the effects and results of these function calls to be resolved in parallel. This is especially useful if functions take a long time, and reduces round trips with the API. For example, the model may call functions to get the weather in 3 different locations at the same time, which will result in a message with 3 function calls in the tool_calls array, each with an id. To respond to these function calls, add 3 new messages to the conversation, each containing the result of one function call, with a tool_call_id referencing the id from tool_calls.\n",
    "- Parallel function calling can be disabled by passing `parallel_tool_calls: false` in the request. The model will only call one function at a time when parallel function calling is disabled.\n"
   ]
  },
  {
   "cell_type": "markdown",
   "id": "baf30de2-bf34-42eb-9942-d6a85cea14b4",
   "metadata": {},
   "source": [
    "---\n",
    "## More Advanced Functions\n",
    "\n",
    "Those were relatively simple examples, let's look at setting up more advanced functions.\n",
    "\n",
    "An easy way to manage more complicated and advanced function properties are with [Pydantic JSON Schemas](https://docs.pydantic.dev/latest/concepts/json_schema/), as demonstrated below."
   ]
  },
  {
   "cell_type": "code",
   "execution_count": 14,
   "id": "5cd8f95b-bf88-4e87-b502-1cbc90fa4430",
   "metadata": {},
   "outputs": [],
   "source": [
    "from pydantic import BaseModel, Field, HttpUrl\n",
    "from typing import List, Optional, Dict\n",
    "from datetime import datetime\n",
    "\n",
    "# Defining the tool properties with Pydantic\n",
    "class SendEmailCampaign(BaseModel):\n",
    "    recipients: List[str] = Field(\n",
    "        ..., \n",
    "        description=\"List of strings, each an email address. Example: ['example1@mail.com', 'example2@mail.com']\"\n",
    "    )\n",
    "    subject: str = Field(\n",
    "        ..., \n",
    "        description=\"String specifying the email's subject line. Example: 'Exciting News!'\"\n",
    "    )\n",
    "    body_text: str = Field(\n",
    "        ..., \n",
    "        description=\"Plain text content of the email body. Example: 'We have some exciting updates to share with you.'\"\n",
    "    )\n",
    "    attachments: Optional[List[HttpUrl]] = Field(\n",
    "        default=[], \n",
    "        description=\"List of URLs to attachment files. Example: ['http://example.com/attachment1.pdf', 'http://example.com/attachment2.png']\"\n",
    "    )\n",
    "    personalization: Optional[Dict[str, Dict[str, str]]] = Field(\n",
    "        default={}, \n",
    "        description=\"Dictionary for personalizing email content. Key is recipient email, value is a dictionary of variables. Example: {'example1@mail.com': {'first_name': 'John'}, 'example2@mail.com': {'first_name': 'Jane'}}\"\n",
    "    )\n",
    "    send_time: Optional[datetime] = Field(\n",
    "        None, \n",
    "        description=\"The time when the email campaign is to be sent. Example: '2024-07-13T14:30:00'\"\n",
    "    )\n",
    "    priority: Optional[str] = Field(\n",
    "        default=\"normal\", \n",
    "        description=\"Email priority level. Options: 'low', 'normal', 'high'. Example: 'high'\", \n",
    "        enum=[\"low\", \"normal\", \"high\"]\n",
    "    )\n",
    "    tracking: Optional[Dict[str, bool]] = Field(\n",
    "        default={\"open\": True, \"click\": True}, \n",
    "        description=\"Tracking options for the email. Keys can be 'open' and 'click', values are booleans. Example: {'open': True, 'click': True}\"\n",
    "    )\n",
    "    campaign_id: Optional[str] = Field(\n",
    "        None, \n",
    "        description=\"Unique identifier for the email campaign for tracking purposes. Example: 'campaign_12345'\"\n",
    "    )\n",
    "\n",
    "# Creating the Tool with PyDantic Schema\n",
    "email_campaign_tool = [\n",
    "    {\n",
    "        \"type\": \"function\",\n",
    "        \"function\": {\n",
    "            \"name\": \"send_email_campaign\",\n",
    "            \"description\": \"Send out a marketing email campaign\",\n",
    "            \"parameters\": SendEmailCampaign.schema(), # Passing in our Pydantic schema\n",
    "        },\n",
    "    }\n",
    "]\n"
   ]
  },
  {
   "cell_type": "code",
   "execution_count": 17,
   "id": "17e3cf61-fe7c-4e1d-8dc4-0d387c705de5",
   "metadata": {},
   "outputs": [
    {
     "data": {
      "text/plain": [
       "[{'type': 'function',\n",
       "  'function': {'name': 'send_email_campaign',\n",
       "   'description': 'Send out a marketing email campaign',\n",
       "   'parameters': {'properties': {'recipients': {'description': \"List of strings, each an email address. Example: ['example1@mail.com', 'example2@mail.com']\",\n",
       "      'items': {'type': 'string'},\n",
       "      'title': 'Recipients',\n",
       "      'type': 'array'},\n",
       "     'subject': {'description': \"String specifying the email's subject line. Example: 'Exciting News!'\",\n",
       "      'title': 'Subject',\n",
       "      'type': 'string'},\n",
       "     'body_text': {'description': \"Plain text content of the email body. Example: 'We have some exciting updates to share with you.'\",\n",
       "      'title': 'Body Text',\n",
       "      'type': 'string'},\n",
       "     'attachments': {'anyOf': [{'items': {'format': 'uri',\n",
       "         'maxLength': 2083,\n",
       "         'minLength': 1,\n",
       "         'type': 'string'},\n",
       "        'type': 'array'},\n",
       "       {'type': 'null'}],\n",
       "      'default': [],\n",
       "      'description': \"List of URLs to attachment files. Example: ['http://example.com/attachment1.pdf', 'http://example.com/attachment2.png']\",\n",
       "      'title': 'Attachments'},\n",
       "     'personalization': {'anyOf': [{'additionalProperties': {'additionalProperties': {'type': 'string'},\n",
       "         'type': 'object'},\n",
       "        'type': 'object'},\n",
       "       {'type': 'null'}],\n",
       "      'default': {},\n",
       "      'description': \"Dictionary for personalizing email content. Key is recipient email, value is a dictionary of variables. Example: {'example1@mail.com': {'first_name': 'John'}, 'example2@mail.com': {'first_name': 'Jane'}}\",\n",
       "      'title': 'Personalization'},\n",
       "     'send_time': {'anyOf': [{'format': 'date-time', 'type': 'string'},\n",
       "       {'type': 'null'}],\n",
       "      'default': None,\n",
       "      'description': \"The time when the email campaign is to be sent. Example: '2024-07-13T14:30:00'\",\n",
       "      'title': 'Send Time'},\n",
       "     'priority': {'anyOf': [{'type': 'string'}, {'type': 'null'}],\n",
       "      'default': 'normal',\n",
       "      'description': \"Email priority level. Options: 'low', 'normal', 'high'. Example: 'high'\",\n",
       "      'enum': ['low', 'normal', 'high'],\n",
       "      'title': 'Priority'},\n",
       "     'tracking': {'anyOf': [{'additionalProperties': {'type': 'boolean'},\n",
       "        'type': 'object'},\n",
       "       {'type': 'null'}],\n",
       "      'default': {'open': True, 'click': True},\n",
       "      'description': \"Tracking options for the email. Keys can be 'open' and 'click', values are booleans. Example: {'open': True, 'click': True}\",\n",
       "      'title': 'Tracking'},\n",
       "     'campaign_id': {'anyOf': [{'type': 'string'}, {'type': 'null'}],\n",
       "      'default': None,\n",
       "      'description': \"Unique identifier for the email campaign for tracking purposes. Example: 'campaign_12345'\",\n",
       "      'title': 'Campaign Id'}},\n",
       "    'required': ['recipients', 'subject', 'body_text'],\n",
       "    'title': 'SendEmailCampaign',\n",
       "    'type': 'object'}}}]"
      ]
     },
     "execution_count": 17,
     "metadata": {},
     "output_type": "execute_result"
    }
   ],
   "source": [
    "email_campaign_tool"
   ]
  },
  {
   "cell_type": "markdown",
   "id": "2432e3fd-4bfb-4832-8dd8-6e2c34cd4d40",
   "metadata": {},
   "source": [
    "And trying it out:"
   ]
  },
  {
   "cell_type": "code",
   "execution_count": 18,
   "id": "8f913888-3c59-4d8d-8fcf-a36e398b4bfd",
   "metadata": {},
   "outputs": [],
   "source": [
    "prompt = \"\"\"\n",
    "\"Can you send an email to adamlucek@youtube.com, samaltman@openai.com, and elonmusk@twitter.com about the cool youtube channel https://www.youtube.com/@AdamLucek \n",
    "for July 20th at 8 am pst, this is high priority and include just click tracking and name personalization, \n",
    "the campaign is campaign_13, \n",
    "also add my linkedin as an attachment https://www.linkedin.com/in/adamrlucek/,\n",
    "Sign off your response with Adam Ł in the body.\n",
    "\"\"\"\n",
    "\n",
    "messages = [{\"role\": \"user\", \n",
    "             \"content\": prompt}]\n",
    "\n",
    "\n",
    "response = client.chat.completions.create(\n",
    "        model=\"gpt-4o\",\n",
    "        messages=messages,\n",
    "        tools=email_campaign_tool,\n",
    "        tool_choice=\"auto\",  # auto is default, but we'll be explicit\n",
    "    )"
   ]
  },
  {
   "cell_type": "code",
   "execution_count": 19,
   "id": "00f4a484-ae43-490c-b3e7-955babdbac74",
   "metadata": {},
   "outputs": [
    {
     "name": "stdout",
     "output_type": "stream",
     "text": [
      "--- Full Response ---\n",
      "\n",
      "ChatCompletion(id='chatcmpl-9ljvcOfHyOD8K5uxBVjTKZF56Dd5F', choices=[Choice(finish_reason='tool_calls', index=0, logprobs=None, message=ChatCompletionMessage(content=None, role='assistant', function_call=None, tool_calls=[ChatCompletionMessageToolCall(id='call_lFaVbiJ2EC93zu1k7vfzG5j1', function=Function(arguments='{\"recipients\": [\"adamlucek@youtube.com\", \"samaltman@openai.com\", \"elonmusk@twitter.com\"], \"subject\": \"Check Out This Cool YouTube Channel!\", \"body_text\": \"Hello,\\\\n\\\\nI wanted to share an amazing YouTube channel that I think you\\'ll love: https://www.youtube.com/@AdamLucek.\\\\n\\\\nBest Regards,\\\\nAdam Ł\", \"attachments\": [\"https://www.linkedin.com/in/adamrlucek/\"], \"personalization\": {\"adamlucek@youtube.com\": {\"first_name\": \"Adam\"}, \"samaltman@openai.com\": {\"first_name\": \"Sam\"}, \"elonmusk@twitter.com\": {\"first_name\": \"Elon\"}}, \"send_time\": \"2023-07-20T08:00:00-08:00\", \"priority\": \"high\", \"tracking\": {\"click\": true}, \"campaign_id\": \"campaign_13\"}', name='send_email_campaign'), type='function')]))], created=1721164992, model='gpt-4o-2024-05-13', object='chat.completion', system_fingerprint='fp_c4e5b6fa31', usage=CompletionUsage(completion_tokens=203, prompt_tokens=553, total_tokens=756)) \n",
      "\n",
      "--- Chat Completion Message ---\n",
      "\n",
      "ChatCompletionMessage(content=None, role='assistant', function_call=None, tool_calls=[ChatCompletionMessageToolCall(id='call_lFaVbiJ2EC93zu1k7vfzG5j1', function=Function(arguments='{\"recipients\": [\"adamlucek@youtube.com\", \"samaltman@openai.com\", \"elonmusk@twitter.com\"], \"subject\": \"Check Out This Cool YouTube Channel!\", \"body_text\": \"Hello,\\\\n\\\\nI wanted to share an amazing YouTube channel that I think you\\'ll love: https://www.youtube.com/@AdamLucek.\\\\n\\\\nBest Regards,\\\\nAdam Ł\", \"attachments\": [\"https://www.linkedin.com/in/adamrlucek/\"], \"personalization\": {\"adamlucek@youtube.com\": {\"first_name\": \"Adam\"}, \"samaltman@openai.com\": {\"first_name\": \"Sam\"}, \"elonmusk@twitter.com\": {\"first_name\": \"Elon\"}}, \"send_time\": \"2023-07-20T08:00:00-08:00\", \"priority\": \"high\", \"tracking\": {\"click\": true}, \"campaign_id\": \"campaign_13\"}', name='send_email_campaign'), type='function')]) \n",
      "\n",
      "--- Tool Call 1 ---\n",
      "\n",
      "Function: send_email_campaign\n",
      "\n",
      "Arguments: {\"recipients\": [\"adamlucek@youtube.com\", \"samaltman@openai.com\", \"elonmusk@twitter.com\"], \"subject\": \"Check Out This Cool YouTube Channel!\", \"body_text\": \"Hello,\\n\\nI wanted to share an amazing YouTube channel that I think you'll love: https://www.youtube.com/@AdamLucek.\\n\\nBest Regards,\\nAdam Ł\", \"attachments\": [\"https://www.linkedin.com/in/adamrlucek/\"], \"personalization\": {\"adamlucek@youtube.com\": {\"first_name\": \"Adam\"}, \"samaltman@openai.com\": {\"first_name\": \"Sam\"}, \"elonmusk@twitter.com\": {\"first_name\": \"Elon\"}}, \"send_time\": \"2023-07-20T08:00:00-08:00\", \"priority\": \"high\", \"tracking\": {\"click\": true}, \"campaign_id\": \"campaign_13\"}\n",
      "\n"
     ]
    }
   ],
   "source": [
    "pprint_response(response)"
   ]
  },
  {
   "cell_type": "code",
   "execution_count": 20,
   "id": "ff954bb1-d274-490f-8702-7f1cb5f8b021",
   "metadata": {},
   "outputs": [
    {
     "name": "stdout",
     "output_type": "stream",
     "text": [
      "\n",
      "Sending email campaign 'campaign_13' with priority 'high':\n",
      "-----\n",
      "\n",
      "To: adamlucek@youtube.com\n",
      "Subject: Adam, Check Out This Cool YouTube Channel!\n",
      "Body: Hello,\n",
      "\n",
      "I wanted to share an amazing YouTube channel that I think you'll love: https://www.youtube.com/@AdamLucek.\n",
      "\n",
      "Best Regards,\n",
      "Adam Ł\n",
      "\tAttachments: https://www.linkedin.com/in/adamrlucek/\n",
      "-----\n",
      "\n",
      "To: samaltman@openai.com\n",
      "Subject: Sam, Check Out This Cool YouTube Channel!\n",
      "Body: Hello,\n",
      "\n",
      "I wanted to share an amazing YouTube channel that I think you'll love: https://www.youtube.com/@AdamLucek.\n",
      "\n",
      "Best Regards,\n",
      "Adam Ł\n",
      "\tAttachments: https://www.linkedin.com/in/adamrlucek/\n",
      "-----\n",
      "\n",
      "To: elonmusk@twitter.com\n",
      "Subject: Elon, Check Out This Cool YouTube Channel!\n",
      "Body: Hello,\n",
      "\n",
      "I wanted to share an amazing YouTube channel that I think you'll love: https://www.youtube.com/@AdamLucek.\n",
      "\n",
      "Best Regards,\n",
      "Adam Ł\n",
      "\tAttachments: https://www.linkedin.com/in/adamrlucek/\n",
      "-----\n",
      "\n",
      "Scheduled Send Time: 2023-07-20 08:00:00-08:00\n",
      "Campaign ID: campaign_13\n",
      "Tracking: {'click': True}\n"
     ]
    }
   ],
   "source": [
    "# Example function of sending off an Email Campaign\n",
    "def send_email_campaign(data: dict):\n",
    "    try:\n",
    "        # Validate and parse the data using the SendEmailCampaign model\n",
    "        campaign = SendEmailCampaign(**data)\n",
    "        \n",
    "        # Simulate sending the email campaign\n",
    "        print(f\"\\nSending email campaign '{campaign.campaign_id or 'N/A'}' with priority '{campaign.priority}':\")\n",
    "        for recipient in campaign.recipients:\n",
    "            personalized_subject = campaign.subject\n",
    "            if recipient in campaign.personalization:\n",
    "                if 'first_name' in campaign.personalization[recipient]:\n",
    "                    personalized_subject = f\"{campaign.personalization[recipient]['first_name']}, {campaign.subject}\"\n",
    "            \n",
    "            print(\"-----\")\n",
    "            print(f\"\\nTo: {recipient}\")\n",
    "            print(f\"Subject: {personalized_subject}\")\n",
    "            print(f\"Body: {campaign.body_text}\")\n",
    "            if campaign.attachments:\n",
    "                attachment_urls = [str(url) for url in campaign.attachments]\n",
    "                print(f\"\\tAttachments: {', '.join(attachment_urls)}\")\n",
    "\n",
    "        print(\"-----\")\n",
    "        print(f\"\\nScheduled Send Time: {campaign.send_time or 'Immediate'}\")\n",
    "        print(f\"Campaign ID: {campaign.campaign_id or 'N/A'}\")\n",
    "        print(f\"Tracking: {campaign.tracking}\")\n",
    "    except Exception as e:\n",
    "        print(f\"Failed to send email campaign: {e}\")\n",
    "\n",
    "args = json.loads(response.choices[0].message.tool_calls[0].function.arguments)\n",
    "send_email_campaign(args)"
   ]
  },
  {
   "cell_type": "markdown",
   "id": "5db571a0-74f9-48fc-9e15-7ac7e87fb73f",
   "metadata": {},
   "source": [
    "\n",
    "\n",
    "**One thing to note**, if you have too many functions or your functions are very complicated, it's possible to do further [fine-tuning](https://platform.openai.com/docs/guides/fine-tuning/fine-tuning-examples) to address this"
   ]
  },
  {
   "cell_type": "markdown",
   "id": "1758ae9c-72dc-4674-a83d-07ce9cde401e",
   "metadata": {},
   "source": [
    "---\n",
    "# Other Models w/LangChain\n",
    "\n",
    "Function calling with OpenAI models is cool, but let's also show what other models support function calling, and how to easily format your tools for different LLMs with LangChain's [integrations](https://python.langchain.com/v0.1/docs/modules/model_io/chat/function_calling/)\n",
    "\n",
    "Here are some common providers and their specific model function calling documentation: [OpenAI](https://platform.openai.com/docs/guides/function-calling), [Anthropic](https://docs.anthropic.com/en/docs/build-with-claude/tool-use), [Google](https://cloud.google.com/vertex-ai/generative-ai/docs/multimodal/function-calling), [Cohere](https://docs.cohere.com/docs/tools), [Fireworks.ai](https://fireworks.ai/blog/firefunction-v1-gpt-4-level-function-calling), [Groq](https://console.groq.com/docs/tool-use), [Mistral](https://docs.mistral.ai/capabilities/function_calling/), [Together.ai](https://docs.together.ai/docs/function-calling)\n",
    "\n",
    "Langchain makes it very easy to plug and play with function calling using compatible LLMs with their standardized message and tool framework"
   ]
  },
  {
   "cell_type": "code",
   "execution_count": 21,
   "id": "f86d85cc-95c4-47aa-9a0f-e442d72efe1b",
   "metadata": {},
   "outputs": [],
   "source": [
    "from langchain_anthropic import ChatAnthropic\n",
    "\n",
    "# Claude 3.5 Sonnet\n",
    "llm = ChatAnthropic(model=\"claude-3-5-sonnet-20240620\", temperature=0.7)"
   ]
  },
  {
   "cell_type": "markdown",
   "id": "c9dcebb3-e9d8-474f-b902-8e89017c8fc6",
   "metadata": {},
   "source": [
    "### Defining Tools\n",
    "\n",
    "LangChain offers multiple ways of defining tools, you can:\n",
    "* Use the `@tool` decorator along with a description on an exisiting function\n",
    "* Use Pydantic schemas to define tool arguments\n",
    "* Use [built in tools](https://python.langchain.com/v0.1/docs/integrations/tools/) as part of LangChain's integrations\n",
    "* Use a combination of all above methods to define [custom tools](https://python.langchain.com/v0.1/docs/modules/tools/custom_tools/) from LangChain's BaseTool class"
   ]
  },
  {
   "cell_type": "code",
   "execution_count": 23,
   "id": "da35bfcc-c8c0-459d-9419-2db523f8093b",
   "metadata": {},
   "outputs": [],
   "source": [
    "from langchain_core.tools import tool\n",
    "\n",
    "# Using the tool decorator to attach onto an existing function\n",
    "@tool\n",
    "def get_exchange_rate(base_currency: str, target_currency: str, date: str = \"latest\") -> float:\n",
    "    \"\"\"Get the latest exchange rate between two currency. Date defaults latest if not provided.\"\"\"\n",
    "    url = f\"https://cdn.jsdelivr.net/npm/@fawazahmed0/currency-api@latest/v1/currencies/{base_currency.lower()}.json\"\n",
    "    response = requests.get(url)\n",
    "    \n",
    "    if response.status_code == 200:\n",
    "        data = response.json()\n",
    "        return data.get(base_currency.lower(), {}).get(target_currency.lower(), None)\n",
    "    else:\n",
    "        raise Exception(f\"Failed to fetch exchange rate: {response.status_code}\")\n",
    "\n",
    "\n",
    "# Using Pydantic schemas (non-invokable tool)\n",
    "from langchain_core.pydantic_v1 import BaseModel, Field\n",
    "\n",
    "class SendEmailCampaignLC(BaseModel):\n",
    "    \"Send a marketing email campaign out to your mailing list\"\n",
    "    \n",
    "    recipients: List[str] = Field(\n",
    "        ..., \n",
    "        description=\"List of strings, each an email address. Example: ['example1@mail.com', 'example2@mail.com']\"\n",
    "    )\n",
    "    subject: str = Field(\n",
    "        ..., \n",
    "        description=\"String specifying the email's subject line. Example: 'Exciting News!'\"\n",
    "    )\n",
    "    body_text: str = Field(\n",
    "        ..., \n",
    "        description=\"Plain text content of the email body. Example: 'We have some exciting updates to share with you.'\"\n",
    "    )\n",
    "\n",
    "# Using built in LangChain tool integrations\n",
    "from langchain_community.utilities import DuckDuckGoSearchAPIWrapper\n",
    "from langchain_community.tools import DuckDuckGoSearchResults\n",
    "\n",
    "wrapper = DuckDuckGoSearchAPIWrapper(max_results=10)\n",
    "web_search = DuckDuckGoSearchResults(api_wrapper=wrapper)"
   ]
  },
  {
   "cell_type": "code",
   "execution_count": 24,
   "id": "97554b0e-b816-42bf-a67d-6325433aaf28",
   "metadata": {},
   "outputs": [
    {
     "data": {
      "text/plain": [
       "158.51506391"
      ]
     },
     "execution_count": 24,
     "metadata": {},
     "output_type": "execute_result"
    }
   ],
   "source": [
    "get_exchange_rate.invoke({\"base_currency\": \"usd\", \"target_currency\": \"jpy\"})"
   ]
  },
  {
   "cell_type": "code",
   "execution_count": 25,
   "id": "d8c27c8d-38ed-499c-abff-bd045fd61558",
   "metadata": {},
   "outputs": [
    {
     "data": {
      "text/plain": [
       "\"[snippet: If you want the best views of San Francisco, take a hike to Twin Peaks. These famous grassy peaks rise 922 feet in elevation, making them the second highest point in the city (after Mount Davidson ..., title: 30 Top-Rated Things to Do in San Francisco | U.S. News Travel, link: https://travel.usnews.com/San_Francisco_CA/Things_To_Do/], [snippet: Other hot spots include Cavaña, a Latin American-inspired bar in Mission Bay, and Rise Over Run, a lush drinking destination on the top floor of the LINE Hotel. Clara Hogan. Advertising. 3 ..., title: 50 Best Things to Do in San Francisco in 2024 - Time Out, link: https://www.timeout.com/san-francisco/things-to-do/best-things-to-do-in-san-francisco], [snippet: 213 Cool, Hidden, and Unusual Things to Do in San Francisco, California. From the Gold Rush to Silicon Valley, the Bay Area has long attracted people from all over the country and the world. And ..., title: 213 Cool and Unusual Things to Do in San Francisco, link: https://www.atlasobscura.com/things-to-do/san-francisco-california], [snippet: The audio tour is one of the best things to do in San Francisco for tourists, but even locals will have plenty to learn on a visit to this historic island. 13. Ride a cable car. Photo by Ragnar Vorel on Unsplash. SF's cable cars are the only moving national landmark in the United States, dating back to 1873., title: 53 Best Attractions, Events, And Things To Do In San Francisco, link: https://secretsanfrancisco.com/things-to-do-san-francisco/]\""
      ]
     },
     "execution_count": 25,
     "metadata": {},
     "output_type": "execute_result"
    }
   ],
   "source": [
    "web_search.invoke(\"Fun things to do in SF\")"
   ]
  },
  {
   "cell_type": "markdown",
   "id": "530970ce-0eca-4fa9-b9f6-f026ed051c6d",
   "metadata": {},
   "source": [
    "### Attaching tools to LLM object\n",
    "\n",
    "Using LangChain's `.bind_tools()` method, we can automatically format the tools to the right format for the model provider and connect them to the LLM anytime we use it.\n",
    "\n",
    "This is also where you can pass in the `tool_choice` argument, however Anthropic doesn't support this feature currently for the example."
   ]
  },
  {
   "cell_type": "code",
   "execution_count": 26,
   "id": "dc21dfa9-9a78-401f-ae26-05dc3eba8ed7",
   "metadata": {},
   "outputs": [],
   "source": [
    "tools = [web_search, SendEmailCampaignLC, get_exchange_rate]\n",
    "\n",
    "llm_tools = llm.bind_tools(tools)"
   ]
  },
  {
   "cell_type": "markdown",
   "id": "f25c9c67-8913-4d6c-b0ff-3c54d3ceba53",
   "metadata": {},
   "source": [
    "Now the LLM has the ability to use and send back Tool messages"
   ]
  },
  {
   "cell_type": "code",
   "execution_count": 28,
   "id": "8e013945-0c21-40ed-8c86-487b6242aaba",
   "metadata": {},
   "outputs": [
    {
     "name": "stdout",
     "output_type": "stream",
     "text": [
      "\n",
      "---Response---\n",
      "To answer your questions, I'll need to use two different tools: one for the search about LangChain and another for the current exchange rate. Let me fetch that information for you.\n",
      "\n",
      "---Tool Calls---\n",
      "[{'name': 'duckduckgo_results_json', 'args': {'query': 'When was LangChain founded'}, 'id': 'toolu_01FtmJZQHLXuHTWs52APGFEn', 'type': 'tool_call'}, {'name': 'get_exchange_rate', 'args': {'base_currency': 'USD', 'target_currency': 'JPY'}, 'id': 'toolu_011kr5hsYLCrwesD4UmdhsAJ', 'type': 'tool_call'}]\n"
     ]
    }
   ],
   "source": [
    "# prompt = \"How much is a dollar worth in Japan right now\"\n",
    "# prompt = \"Can you send an email to adamlucek@youtube.com, samaltman@openai.com, and elonmusk@twitter.com about the cool youtube channel https://www.youtube.com/@AdamLucek\"\n",
    "# prompt = \"When was langgraph cloud released?\"\n",
    "prompt = \"When was langchain founded? and how much is a dollar worth in japan rn\"\n",
    "\n",
    "output = llm_tools.invoke(prompt)\n",
    "print(\"\\n---Response---\")\n",
    "print(output.content[0]['text'])\n",
    "print(\"\\n---Tool Calls---\")\n",
    "print(output.tool_calls)"
   ]
  },
  {
   "cell_type": "markdown",
   "id": "1e98eb4f-2693-46c1-8a34-501fcacc120a",
   "metadata": {},
   "source": [
    "### Handling Tool Calls\n",
    "\n",
    "Execute and feed back the tools once we got the arguments from the LLM, now that the tools and messages are formatted by LangChain\n",
    "\n",
    "Tools can be directly invoked when formatted as a LangChain tool, simplifying the execution process greatly"
   ]
  },
  {
   "cell_type": "code",
   "execution_count": 31,
   "id": "c50bfc89-c7dd-4875-8723-d4257560f9d5",
   "metadata": {},
   "outputs": [
    {
     "name": "stdout",
     "output_type": "stream",
     "text": [
      "-------\n",
      "human:  content='When was langchain founded? and how much is a dollar worth in japan rn'\n",
      "-------\n",
      "ai:  content=[{'text': \"To answer your questions, I'll need to use two different tools: one to search for information about LangChain's founding, and another to check the current exchange rate between US dollars and Japanese yen. Let me do that for you.\", 'type': 'text'}, {'id': 'toolu_01UVv5mjsF5EzGYkagSxxSv1', 'input': {'query': 'When was LangChain founded'}, 'name': 'duckduckgo_results_json', 'type': 'tool_use'}, {'id': 'toolu_01AcWtXxsfK9o43RHGCyYpKD', 'input': {'base_currency': 'USD', 'target_currency': 'JPY'}, 'name': 'get_exchange_rate', 'type': 'tool_use'}] response_metadata={'id': 'msg_01Tbm7WGDuGPaV2uHAhPoM4L', 'model': 'claude-3-5-sonnet-20240620', 'stop_reason': 'tool_use', 'stop_sequence': None, 'usage': {'input_tokens': 707, 'output_tokens': 176}} id='run-ad4c2bef-f767-41f7-a475-ebd32f95f7f6-0' tool_calls=[{'name': 'duckduckgo_results_json', 'args': {'query': 'When was LangChain founded'}, 'id': 'toolu_01UVv5mjsF5EzGYkagSxxSv1', 'type': 'tool_call'}, {'name': 'get_exchange_rate', 'args': {'base_currency': 'USD', 'target_currency': 'JPY'}, 'id': 'toolu_01AcWtXxsfK9o43RHGCyYpKD', 'type': 'tool_call'}] usage_metadata={'input_tokens': 707, 'output_tokens': 176, 'total_tokens': 883}\n",
      "-------\n",
      "tool:  content=\"[snippet: LangChain is a framework designed to facilitate the development of applications powered by language models. It enables applications to be context-aware, connecting language models to various ..., title: Introduction to LangChain | by Zilliz | Medium, link: https://medium.com/@zilliz_learn/introduction-to-langchain-b01618c82f3c], [snippet: The first commit to LangChain shows its humble origins as a light wrapper around Python's formatter.format for prompt templating.But as Harrison tells the story, even his first experience with text-davinci-002 in early 2022 was focused on chatting with data from their internal company Notion 2 and Slack, what is now known as Retrieval Augmented Generation (RAG)., title: The Point of LangChain — with Harrison Chase of LangChain, link: https://www.latent.space/p/langchain], [snippet: LangChain on Github. In October 2022, LangChain started as an open-source project created by Harrison Chase. In April 2023, LangChain became a startup and has released more services besides ..., title: What is Langchain? Explained in Everyday Langauge for AI Beginners, link: https://medium.com/ai-for-absolute-beginners/what-is-langchain-explained-in-everyday-langauge-for-ai-beginners-fc8ffa6fb5f2], [snippet: LangChain is a framework that supports the development of applications that run on large language models (LLMs). In software development, a framework acts as a template for building apps, containing a collection of resources created and tested by developers and engineers. Since LangChain is open-source, anyone can access it and tailor it to ..., title: What Is LangChain? | Built In, link: https://builtin.com/articles/langchain]\" tool_call_id='toolu_01UVv5mjsF5EzGYkagSxxSv1'\n",
      "-------\n",
      "tool:  content='158.51506391' tool_call_id='toolu_01AcWtXxsfK9o43RHGCyYpKD'\n"
     ]
    }
   ],
   "source": [
    "from langchain_core.messages import HumanMessage, ToolMessage\n",
    "\n",
    "query = \"When was langchain founded? and how much is a dollar worth in japan rn\"\n",
    "\n",
    "messages = [HumanMessage(query)]\n",
    "ai_msg = llm_tools.invoke(messages)\n",
    "messages.append(ai_msg)\n",
    "\n",
    "# Only using web search and exchange rate, and the Pydantic schema is not a full function, just a container for arguments\n",
    "for tool_call in ai_msg.tool_calls:\n",
    "    selected_tool = {\"duckduckgo_results_json\": web_search, \"get_exchange_rate\": get_exchange_rate}[tool_call[\"name\"].lower()]\n",
    "    tool_output = selected_tool.invoke(tool_call[\"args\"])\n",
    "    messages.append(ToolMessage(tool_output, tool_call_id=tool_call[\"id\"]))\n",
    "\n",
    "for i in range(0, len(messages)):\n",
    "    print(\"-------\")\n",
    "    print(f\"{messages[i].type}: \", messages[i])"
   ]
  },
  {
   "cell_type": "markdown",
   "id": "d30ec36f-7120-4438-84b5-cd82ce934bdc",
   "metadata": {},
   "source": [
    "**Putting the recorded messages history together, all formatted correctly with their types of messages, we get the final answer:**"
   ]
  },
  {
   "cell_type": "code",
   "execution_count": 32,
   "id": "a548f16a-5627-4cfc-9638-6de019210116",
   "metadata": {},
   "outputs": [
    {
     "name": "stdout",
     "output_type": "stream",
     "text": [
      "Now, let me answer your questions based on the information I've gathered:\n",
      "\n",
      "1. When was LangChain founded?\n",
      "Based on the search results, LangChain was founded in October 2022. It started as an open-source project created by Harrison Chase. The project has since grown, and in April 2023, LangChain became a startup and expanded its services.\n",
      "\n",
      "2. How much is a dollar worth in Japan right now?\n",
      "According to the current exchange rate, 1 US Dollar (USD) is worth 158.51506391 Japanese Yen (JPY).\n",
      "\n",
      "So, to summarize:\n",
      "- LangChain was founded in October 2022.\n",
      "- Currently, 1 USD = 158.52 JPY (rounded to two decimal places for simplicity).\n",
      "\n",
      "Is there anything else you'd like to know about these topics?\n"
     ]
    }
   ],
   "source": [
    "final_response = llm_tools.invoke(messages)\n",
    "print(final_response.content)"
   ]
  },
  {
   "cell_type": "markdown",
   "id": "fbdcba30-6263-4804-ba69-8310e1b71cc6",
   "metadata": {},
   "source": [
    "---\n",
    "# Agents: The Final Frontier of Tools\n",
    "\n",
    "The most common use case for tools and function calling is for creating [agentic systems](https://aws.amazon.com/what-is/ai-agents/).\n",
    "\n",
    "We can use [LangChain's built in agent builders](https://python.langchain.com/v0.1/docs/modules/agents/quick_start/) like the OpenAI functions agent to easily attach our tools to an agentic flow, and execute it all in one, or add more complex chain-of-thought reasoning with tools like the [ReAct agent](https://python.langchain.com/v0.1/docs/modules/agents/agent_types/react/)."
   ]
  },
  {
   "cell_type": "markdown",
   "id": "5e623743-0c59-4802-b76e-df2427043c51",
   "metadata": {},
   "source": [
    "### Tool Calling Agent\n",
    "\n",
    "Simple flow that will essentially do what we've been setting up manually, [prompt link here](https://smith.langchain.com/hub/hwchase17/openai-functions-agent?organizationId=130ad41c-23ab-5f86-ba94-80f9634e5dca), with calling tools, executing tools, and then returning a final response."
   ]
  },
  {
   "cell_type": "code",
   "execution_count": 33,
   "id": "4b641018-4193-4947-8561-1afb2ec7a026",
   "metadata": {},
   "outputs": [],
   "source": [
    "from langchain import hub\n",
    "from langchain.agents import create_tool_calling_agent\n",
    "from langchain.agents import AgentExecutor\n",
    "\n",
    "# Get the prompt\n",
    "oaif_prompt = hub.pull(\"hwchase17/openai-functions-agent\")\n",
    "\n",
    "llm = ChatAnthropic(model=\"claude-3-5-sonnet-20240620\", temperature=0.7)\n",
    "tools = [web_search, get_exchange_rate]\n",
    "\n",
    "# Create the agent\n",
    "oaif_agent = create_tool_calling_agent(llm, tools, oaif_prompt)\n",
    "\n",
    "# Create the Agent Executor\n",
    "# This is the runtime for an agent. This is what actually calls the agent, executes the actions it chooses, passes the action outputs back to the agent, and repeats. I\n",
    "oaif_agent_executor = AgentExecutor(agent=oaif_agent, tools=tools, verbose=True)"
   ]
  },
  {
   "cell_type": "markdown",
   "id": "7f3f94aa-ac82-404b-81d8-3debe9c1dd66",
   "metadata": {},
   "source": [
    "Invoking the Agent"
   ]
  },
  {
   "cell_type": "code",
   "execution_count": 34,
   "id": "d73ad26a-aa8e-49af-9767-97fef2e6bb40",
   "metadata": {},
   "outputs": [
    {
     "name": "stdout",
     "output_type": "stream",
     "text": [
      "\n",
      "\n",
      "\u001b[1m> Entering new AgentExecutor chain...\u001b[0m\n",
      "\u001b[32;1m\u001b[1;3m\n",
      "Invoking: `duckduckgo_results_json` with `{'query': 'langgraph cloud release date'}`\n",
      "responded: [{'text': \"To answer your questions, I'll need to use two different tools: one for searching about langgraph cloud, and another for checking the current exchange rate between US dollars and Japanese yen. Let me fetch that information for you.\", 'type': 'text', 'index': 0}, {'id': 'toolu_01Y9eWd1uKY3vS7Am5kkW5DW', 'input': {}, 'name': 'duckduckgo_results_json', 'type': 'tool_use', 'index': 1, 'partial_json': '{\"query\": \"langgraph cloud release date\"}'}, {'id': 'toolu_01A8ZCAmdDmKjfyW8c4cKYKA', 'input': {}, 'name': 'get_exchange_rate', 'type': 'tool_use', 'index': 2, 'partial_json': '{\"base_currency\": \"USD\", \"target_currency\": \"JPY\"}'}]\n",
      "\n",
      "\u001b[0m\u001b[36;1m\u001b[1;3m[snippet: Announcing LangGraph v0.1 & LangGraph Cloud: Running agents at scale, reliably. Our new infrastructure for running agents at scale, LangGraph Cloud, is available in beta. We also have a new stable release of LangGraph. At LangChain, we aim to make it easy to build LLM applications - systems that connect LLMs to external sources of data and ..., title: Announcing LangGraph v0.1 & LangGraph Cloud: Running agents at scale ..., link: https://blog.langchain.dev/langgraph-cloud/], [snippet: This builds upon our latest stable release of LangGraph v0.1, which gives you control in building agents with support for human-in-the-loop collaboration (e.g. humans can approve or edit agent actions) and first-class streaming support. Join the waitlist today for LangGraph Cloud. And to learn more, read our blog post announcement., title: [Week of 6/24] LangChain Release Notes, link: https://blog.langchain.dev/week-of-6-24-langchain-release-notes/], [snippet: LangGraph. LangGraph is framework-agnostic, with each node functioning as a regular Python function. It extends the core Runnable API (a shared interface for streaming, async, and batch calls) to facilitate: Seamless state management across multiple conversation turns or tool calls., title: LangChain Just Launched LangGraph Cloud | by Cobus Greyling | Jul, 2024 ..., link: https://cobusgreyling.medium.com/langchain-just-launched-langgraph-cloud-bf8f65e45a54], [snippet: LangGraph helps construct a powerful agent executor that allows for loops in logic while keeping track of application state. Agents constructed with LangGraph can handle more ambiguous inputs and accomplish tasks more consistently. These agents can: Force call a tool. Wait for human-in-the-loop approval. Manage agent steps., title: [Week of 1/22/24] LangChain Release Notes, link: https://blog.langchain.dev/week-of-1-22-24-langchain-release-notes/]\u001b[0m\u001b[32;1m\u001b[1;3m\n",
      "Invoking: `get_exchange_rate` with `{'base_currency': 'USD', 'target_currency': 'JPY'}`\n",
      "responded: [{'text': \"To answer your questions, I'll need to use two different tools: one for searching about langgraph cloud, and another for checking the current exchange rate between US dollars and Japanese yen. Let me fetch that information for you.\", 'type': 'text', 'index': 0}, {'id': 'toolu_01Y9eWd1uKY3vS7Am5kkW5DW', 'input': {}, 'name': 'duckduckgo_results_json', 'type': 'tool_use', 'index': 1, 'partial_json': '{\"query\": \"langgraph cloud release date\"}'}, {'id': 'toolu_01A8ZCAmdDmKjfyW8c4cKYKA', 'input': {}, 'name': 'get_exchange_rate', 'type': 'tool_use', 'index': 2, 'partial_json': '{\"base_currency\": \"USD\", \"target_currency\": \"JPY\"}'}]\n",
      "\n",
      "\u001b[0m\u001b[33;1m\u001b[1;3m158.51506391\u001b[0m\u001b[32;1m\u001b[1;3m[{'text': \"\\n\\nNow, let me answer your questions based on the information I've gathered:\\n\\n1. When was langgraph cloud released?\\n\\nBased on the search results, LangGraph Cloud was announced and released in beta in June 2023. The exact release date isn't specified, but we can see from the blog post titles and snippets that it was announced around June 24, 2023. The announcement was made alongside the stable release of LangGraph v0.1.\\n\\n2. How much is a dollar worth in Japan right now?\\n\\nAccording to the current exchange rate, 1 US Dollar (USD) is worth 158.51 Japanese Yen (JPY).\\n\\nTo put it another way, $1 USD = ¥158.51 JPY at the current exchange rate.\\n\\nIs there anything else you'd like to know about LangGraph Cloud or currency exchange rates?\", 'type': 'text', 'index': 0}]\u001b[0m\n",
      "\n",
      "\u001b[1m> Finished chain.\u001b[0m\n",
      "\n",
      " \n",
      "\n",
      "Now, let me answer your questions based on the information I've gathered:\n",
      "\n",
      "1. When was langgraph cloud released?\n",
      "\n",
      "Based on the search results, LangGraph Cloud was announced and released in beta in June 2023. The exact release date isn't specified, but we can see from the blog post titles and snippets that it was announced around June 24, 2023. The announcement was made alongside the stable release of LangGraph v0.1.\n",
      "\n",
      "2. How much is a dollar worth in Japan right now?\n",
      "\n",
      "According to the current exchange rate, 1 US Dollar (USD) is worth 158.51 Japanese Yen (JPY).\n",
      "\n",
      "To put it another way, $1 USD = ¥158.51 JPY at the current exchange rate.\n",
      "\n",
      "Is there anything else you'd like to know about LangGraph Cloud or currency exchange rates?\n"
     ]
    }
   ],
   "source": [
    "query = \"When was langgraph cloud released? and how much is a dollar worth in japan rn\"\n",
    "\n",
    "response = oaif_agent_executor.invoke({\"input\": query})\n",
    "\n",
    "print(\"\\n\", response['output'][0]['text'])"
   ]
  },
  {
   "cell_type": "markdown",
   "id": "6e58ff68-a860-4b76-bde1-1ce2c096fcab",
   "metadata": {},
   "source": [
    "### ReAct Agent - Chain-of-Thought with Tool Execution\n",
    "\n",
    "LLM flow based off the [ReAct: Synergizing Reasoning and Acting in Language Models Paper](https://react-lm.github.io/), [prompt link here](https://smith.langchain.com/hub/hwchase17/react?organizationId=130ad41c-23ab-5f86-ba94-80f9634e5dca). The prompt and flow looks a little like this:\n",
    "\n",
    "```\n",
    "Use the following format:\n",
    "\n",
    "Question: the input question you must answer\n",
    "\n",
    "Thought: you should always think about what to do\n",
    "\n",
    "Action: the action to take, should be one of [{tool_names}]\n",
    "\n",
    "Action Input: the input to the action\n",
    "\n",
    "Observation: the result of the action\n",
    "\n",
    "... (this Thought/Action/Action Input/Observation can repeat N times)\n",
    "\n",
    "Thought: I now know the final answer\n",
    "\n",
    "Final Answer: the final answer to the original input question\n",
    "```"
   ]
  },
  {
   "cell_type": "code",
   "execution_count": 35,
   "id": "1d26abc4-1c82-4996-927c-00a0bb21dba8",
   "metadata": {},
   "outputs": [],
   "source": [
    "from langchain.agents import create_react_agent\n",
    "\n",
    "react_prompt = hub.pull(\"hwchase17/react\")\n",
    "react_agent = create_react_agent(llm, tools, react_prompt)\n",
    "react_agent_executor = AgentExecutor(agent=react_agent, tools=tools, verbose=True)"
   ]
  },
  {
   "cell_type": "code",
   "execution_count": 36,
   "id": "098d53f0-8eb3-4b21-bea1-103552db5b06",
   "metadata": {},
   "outputs": [
    {
     "name": "stdout",
     "output_type": "stream",
     "text": [
      "\n",
      "\n",
      "\u001b[1m> Entering new AgentExecutor chain...\u001b[0m\n",
      "\u001b[32;1m\u001b[1;3mTo answer this question, I'll need to search for information about langgraph cloud and LangChain. Let's start with langgraph cloud.\n",
      "\n",
      "Action: duckduckgo_results_json\n",
      "Action Input: langgraph cloud release date\n",
      "\u001b[0m\u001b[36;1m\u001b[1;3m[snippet: Our new infrastructure for running agents at scale, LangGraph Cloud, is available in beta. We also have a new stable release of LangGraph., title: Announcing LangGraph v0.1 & LangGraph Cloud: Running agents at scale ..., link: https://blog.langchain.dev/langgraph-cloud/], [snippet: This builds upon our latest stable release of LangGraph v0.1, which gives you control in building agents with support for human-in-the-loop collaboration (e.g. humans can approve or edit agent actions) and first-class streaming support. Join the waitlist today for LangGraph Cloud. And to learn more, read our blog post announcement., title: [Week of 6/24] LangChain Release Notes, link: https://blog.langchain.dev/week-of-6-24-langchain-release-notes/], [snippet: LangChain Just Launched LangGraph Cloud. LangGraph is a fairly recent addition to the ever expanding LangChain ecosystem. With the launch of LangGraph Cloud, a managed, hosted service is introduced for deploying and hosting LangGraph applications. Cobus Greyling., title: LangChain Just Launched LangGraph Cloud | by Cobus Greyling | Jul, 2024 ..., link: https://cobusgreyling.medium.com/langchain-just-launched-langgraph-cloud-bf8f65e45a54], [snippet: This builds on LangGraph v0.1, our latest stable release supporting diverse control flows - whether it's single- or multi-agent, hierarchal or sequential. You'll be able to create flexible agents with human-in-the-loop collaboration and first-class streaming support. We can't wait to see the agentic workflows you'll ship. LangGraph Cloud is available in closed beta today., title: Introducing LangGraph Cloud LangGraph helps you build reliable ..., link: https://www.threads.net/@langchain.ai/post/C8uhvFUyLUT]\u001b[0m\u001b[32;1m\u001b[1;3mBased on the search results, I can answer part of the question about langgraph cloud. However, I don't have specific information about LangChain's founding date yet. Let's break this down:\n",
      "\n",
      "1. Regarding langgraph cloud:\n",
      "The search results indicate that LangGraph Cloud was recently released in beta. The most specific information comes from the LangChain release notes for the week of 6/24, which mentions LangGraph Cloud being available in beta. This suggests that LangGraph Cloud was released in beta around late June 2023.\n",
      "\n",
      "2. Regarding LangChain's founding date:\n",
      "The search results don't provide information about when LangChain was founded. We need to perform another search for this information.\n",
      "\n",
      "Let's search for LangChain's founding date.\n",
      "\n",
      "Action: duckduckgo_results_json\n",
      "Action Input: LangChain founding date\n",
      "\u001b[0m\u001b[36;1m\u001b[1;3m[snippet: The first commit to LangChain shows its humble origins as a light wrapper around Python's formatter.format for prompt templating.But as Harrison tells the story, even his first experience with text-davinci-002 in early 2022 was focused on chatting with data from their internal company Notion 2 and Slack, what is now known as Retrieval Augmented Generation (RAG)., title: The Point of LangChain — with Harrison Chase of LangChain, link: https://www.latent.space/p/langchain], [snippet: LangChain on Github. In October 2022, LangChain started as an open-source project created by Harrison Chase. In April 2023, LangChain became a startup and has released more services besides ..., title: What is Langchain? Explained in Everyday Langauge for AI Beginners, link: https://medium.com/ai-for-absolute-beginners/what-is-langchain-explained-in-everyday-langauge-for-ai-beginners-fc8ffa6fb5f2], [snippet: LangChain has over 100 different document loaders for all types of documents (html, pdf, code), from all types of locations (S3, public websites) and integrations with AirByte and Unstructured., title: Introduction to LangChain | by Zilliz | Medium, link: https://medium.com/@zilliz_learn/introduction-to-langchain-b01618c82f3c], [snippet: LangChain provides two types of agents that help to achieve that: action agents make decisions, take actions and make observations on the results of that actions, repeating this cycle until a ..., title: Introducing LangChain: a beginner's guide ️ | by ... - Medium, link: https://medium.com/@ellen.hoeven/introducing-langchain-a-beginners-guide-️-5e751622edb7]\u001b[0m\u001b[32;1m\u001b[1;3mBased on the search results, I can now provide more information about both LangGraph Cloud and LangChain's founding. Let's compile the information:\n",
      "\n",
      "1. Regarding LangGraph Cloud:\n",
      "As mentioned earlier, LangGraph Cloud was released in beta around late June 2023. This is based on the LangChain release notes for the week of 6/24, which announced its availability in beta.\n",
      "\n",
      "2. Regarding LangChain's founding:\n",
      "While we don't have an exact founding date for LangChain as a company, we can infer some key dates from the search results:\n",
      "\n",
      "- The project started as an open-source initiative in October 2022, created by Harrison Chase.\n",
      "- The earliest work on what would become LangChain seems to have begun in early 2022, when Harrison Chase first experimented with text-davinci-002 for what is now known as Retrieval Augmented Generation (RAG).\n",
      "- In April 2023, LangChain transitioned from an open-source project to a startup.\n",
      "\n",
      "Now I can provide a final answer to the original questions.\n",
      "\n",
      "Final Answer: LangGraph Cloud was released in beta around late June 2023. As for LangChain, it wasn't founded as a company immediately. The project started as an open-source initiative in October 2022, created by Harrison Chase. The earliest work on concepts that would become LangChain began in early 2022. LangChain then transitioned from an open-source project to a startup in April 2023.\u001b[0m\n",
      "\n",
      "\u001b[1m> Finished chain.\u001b[0m\n"
     ]
    }
   ],
   "source": [
    "query = \"When was langgraph cloud released? When was LangChain founded?\"\n",
    "\n",
    "response = react_agent_executor.invoke({\"input\": query})"
   ]
  },
  {
   "cell_type": "code",
   "execution_count": null,
   "id": "f8516a49-3564-474a-93f6-84bf185fbb52",
   "metadata": {},
   "outputs": [],
   "source": []
  }
 ],
 "metadata": {
  "kernelspec": {
   "display_name": "Python 3 (ipykernel)",
   "language": "python",
   "name": "python3"
  },
  "language_info": {
   "codemirror_mode": {
    "name": "ipython",
    "version": 3
   },
   "file_extension": ".py",
   "mimetype": "text/x-python",
   "name": "python",
   "nbconvert_exporter": "python",
   "pygments_lexer": "ipython3",
   "version": "3.12.1"
  }
 },
 "nbformat": 4,
 "nbformat_minor": 5
}
